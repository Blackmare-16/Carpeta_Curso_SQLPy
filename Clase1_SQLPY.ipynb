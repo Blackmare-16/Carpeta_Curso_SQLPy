{
 "cells": [
  {
   "cell_type": "code",
   "execution_count": null,
   "metadata": {},
   "outputs": [],
   "source": [
    "#Phyton sirve como una calculadora \n",
    "\n",
    "#Suma\n",
    "p = 8 + 1\n",
    "j = p + 2\n",
    "print(j)\n",
    "\n",
    "#Calculadora\n",
    "l = 8 * 9 \n",
    "print(float(l))\n",
    "\n",
    "#Div\n",
    "d = 6/2\n",
    "int(d)\n",
    "print(int(d))\n",
    "\n",
    "#Potencia\n",
    "q = 2**3\n",
    "print(q)\n",
    "\n",
    "#Raiz cuadrada\n",
    "r = 16**(1/2)\n",
    "print(r)"
   ]
  }
 ],
 "metadata": {
  "language_info": {
   "name": "python"
  },
  "orig_nbformat": 4
 },
 "nbformat": 4,
 "nbformat_minor": 2
}
